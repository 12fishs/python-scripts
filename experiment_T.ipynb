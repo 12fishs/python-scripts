{
 "cells": [
  {
   "cell_type": "code",
   "execution_count": 7,
   "metadata": {},
   "outputs": [],
   "source": [
    "from sympy import *\n",
    "m, b, u, g, v, u_T, z_0, t, vm, th= symbols('vm  m b u g v u_T  z_0 t th')"
   ]
  },
  {
   "cell_type": "code",
   "execution_count": 8,
   "metadata": {},
   "outputs": [],
   "source": [
    "from sympy import *\n",
    "integrate(m/(b*u**2-m*g), u)\n",
    "m, b, u, g = symbols('m,b,u,g')"
   ]
  },
  {
   "cell_type": "code",
   "execution_count": 9,
   "metadata": {},
   "outputs": [
    {
     "data": {
      "text/plain": [
       "m*(sqrt(1/(b*g*m))*log(-g*m*sqrt(1/(b*g*m)) + u)/2 - sqrt(1/(b*g*m))*log(g*m*sqrt(1/(b*g*m)) + u)/2)"
      ]
     },
     "execution_count": 9,
     "metadata": {},
     "output_type": "execute_result"
    }
   ],
   "source": [
    "from sympy import *\n",
    "m, b, u, g = symbols('m,b,u,g')\n",
    "integrate(m/(b*u**2-m*g), u)\n"
   ]
  },
  {
   "cell_type": "code",
   "execution_count": 7,
   "metadata": {},
   "outputs": [
    {
     "data": {
      "text/plain": [
       "m*(sqrt(1/(b*g*m))*log(-g*m*sqrt(1/(b*g*m)) + u)/2 - sqrt(1/(b*g*m))*log(g*m*sqrt(1/(b*g*m)) + u)/2)"
      ]
     },
     "execution_count": 7,
     "metadata": {},
     "output_type": "execute_result"
    }
   ],
   "source": [
    "\n",
    "integrate(m/(b*u**2-m*g), u)\n"
   ]
  },
  {
   "cell_type": "code",
   "execution_count": 8,
   "metadata": {},
   "outputs": [
    {
     "data": {
      "text/plain": [
       "m*sqrt(1/(b*g*m))*(log(-g*m*sqrt(1/(b*g*m)) + u) - log(g*m*sqrt(1/(b*g*m)) + u))/2"
      ]
     },
     "execution_count": 8,
     "metadata": {},
     "output_type": "execute_result"
    }
   ],
   "source": [
    "simplify(_)"
   ]
  },
  {
   "cell_type": "code",
   "execution_count": 15,
   "metadata": {},
   "outputs": [
    {
     "data": {
      "text/plain": [
       "-m*(sqrt(1/(b*g*m))*log(-g*m*sqrt(1/(b*g*m)))/2 - sqrt(1/(b*g*m))*log(g*m*sqrt(1/(b*g*m)))/2) + m*(sqrt(1/(b*g*m))*log(-g*m*sqrt(1/(b*g*m)) + v)/2 - sqrt(1/(b*g*m))*log(g*m*sqrt(1/(b*g*m)) + v)/2)"
      ]
     },
     "execution_count": 15,
     "metadata": {},
     "output_type": "execute_result"
    }
   ],
   "source": [
    "integrate(m/(b*u**2-m*g), (u, 0, v))\n"
   ]
  },
  {
   "cell_type": "code",
   "execution_count": 16,
   "metadata": {},
   "outputs": [
    {
     "data": {
      "text/plain": [
       "m*sqrt(1/(b*g*m))*(-log(-g*m*sqrt(1/(b*g*m))) + log(g*m*sqrt(1/(b*g*m))) + log(-g*m*sqrt(1/(b*g*m)) + v) - log(g*m*sqrt(1/(b*g*m)) + v))/2"
      ]
     },
     "execution_count": 16,
     "metadata": {},
     "output_type": "execute_result"
    }
   ],
   "source": [
    "simplify(_)"
   ]
  },
  {
   "cell_type": "code",
   "execution_count": 21,
   "metadata": {},
   "outputs": [
    {
     "data": {
      "text/plain": [
       "-u_T*(log(-u_T)/2 - log(u_T)/2) + u_T*(log(-u_T + v)/2 - log(u_T + v)/2)"
      ]
     },
     "execution_count": 21,
     "metadata": {},
     "output_type": "execute_result"
    }
   ],
   "source": [
    "integrate(u_T**2/(u**2-u_T**2), (u, 0, v))\n"
   ]
  },
  {
   "cell_type": "code",
   "execution_count": 22,
   "metadata": {},
   "outputs": [
    {
     "data": {
      "text/plain": [
       "u_T*(-log(-u_T) + log(u_T) + log(-u_T + v) - log(u_T + v))/2"
      ]
     },
     "execution_count": 22,
     "metadata": {},
     "output_type": "execute_result"
    }
   ],
   "source": [
    "simplify(_)"
   ]
  },
  {
   "cell_type": "code",
   "execution_count": 24,
   "metadata": {},
   "outputs": [
    {
     "data": {
      "text/plain": [
       "-u_T*Piecewise((t - u_T*log(tanh(g*t/u_T) + 1)/g, Ne(g, 0)), (0, True))"
      ]
     },
     "execution_count": 24,
     "metadata": {},
     "output_type": "execute_result"
    }
   ],
   "source": [
    "integrate(-u_T*tanh((g/u_T)*t), t)"
   ]
  },
  {
   "cell_type": "code",
   "execution_count": 32,
   "metadata": {},
   "outputs": [
    {
     "data": {
      "text/plain": [
       "-u_T*sinh(g*t/u_T)/cosh(g*t/u_T)"
      ]
     },
     "execution_count": 32,
     "metadata": {},
     "output_type": "execute_result"
    }
   ],
   "source": [
    "diff(z_0-((u_T**2)/g)*log(cosh(g/(u_T)*t))\n",
    "    , t)"
   ]
  },
  {
   "cell_type": "code",
   "execution_count": 33,
   "metadata": {},
   "outputs": [
    {
     "data": {
      "text/plain": [
       "exp(u_T*(log(u_T - v) - log(u_T + v))/2)"
      ]
     },
     "execution_count": 33,
     "metadata": {},
     "output_type": "execute_result"
    }
   ],
   "source": [
    "exp(u_T/2*(log(u_T-v)-log(u_T+v)))"
   ]
  },
  {
   "cell_type": "code",
   "execution_count": 34,
   "metadata": {},
   "outputs": [
    {
     "data": {
      "text/plain": [
       "exp(u_T*(log(u_T - v) - log(u_T + v))/2)"
      ]
     },
     "execution_count": 34,
     "metadata": {},
     "output_type": "execute_result"
    }
   ],
   "source": [
    "simplify(_)"
   ]
  },
  {
   "cell_type": "code",
   "execution_count": 35,
   "metadata": {},
   "outputs": [
    {
     "data": {
      "text/plain": [
       "exp(u_T*log(u_T - v)/2)"
      ]
     },
     "execution_count": 35,
     "metadata": {},
     "output_type": "execute_result"
    }
   ],
   "source": [
    "exp(u_T/2*ln(u_T-v))\n"
   ]
  },
  {
   "cell_type": "code",
   "execution_count": 36,
   "metadata": {},
   "outputs": [
    {
     "data": {
      "text/plain": [
       "exp(u_T*log(u_T - v)/2)"
      ]
     },
     "execution_count": 36,
     "metadata": {},
     "output_type": "execute_result"
    }
   ],
   "source": [
    "simplify(_)"
   ]
  },
  {
   "cell_type": "code",
   "execution_count": 4,
   "metadata": {},
   "outputs": [],
   "source": [
    "import matplotlib.pyplot as plt\n",
    "import numpy as np"
   ]
  },
  {
   "cell_type": "code",
   "execution_count": 4,
   "metadata": {},
   "outputs": [],
   "source": [
    "x=np.linspace(0,10,1000)"
   ]
  },
  {
   "cell_type": "code",
   "execution_count": 47,
   "metadata": {},
   "outputs": [
    {
     "data": {
      "text/plain": [
       "[<matplotlib.lines.Line2D at 0x2150fe8a438>]"
      ]
     },
     "execution_count": 47,
     "metadata": {},
     "output_type": "execute_result"
    },
    {
     "data": {
      "image/png": "[encoded data removed]",
      "text/plain": [
       "<Figure size 432x288 with 1 Axes>"
      ]
     },
     "metadata": {
      "needs_background": "light"
     },
     "output_type": "display_data"
    }
   ],
   "source": [
    "plt.plot(x,x**2)"
   ]
  },
  {
   "cell_type": "code",
   "execution_count": 27,
   "metadata": {},
   "outputs": [],
   "source": [
    "t=np.linspace(0,25,1000)"
   ]
  },
  {
   "cell_type": "code",
   "execution_count": 28,
   "metadata": {},
   "outputs": [
    {
     "data": {
      "text/plain": [
       "[<matplotlib.lines.Line2D at 0x153855c1320>]"
      ]
     },
     "execution_count": 28,
     "metadata": {},
     "output_type": "execute_result"
    },
    {
     "data": {
      "image/png": "[encoded data removed]",
      "text/plain": [
       "<Figure size 432x288 with 1 Axes>"
      ]
     },
     "metadata": {
      "needs_background": "light"
     },
     "output_type": "display_data"
    }
   ],
   "source": [
    "g=10\n",
    "u_T=100\n",
    "plt.plot(t,-u_T*np.tanh(g*t/u_T))"
   ]
  },
  {
   "cell_type": "code",
   "execution_count": 29,
   "metadata": {},
   "outputs": [
    {
     "data": {
      "text/plain": [
       "[<matplotlib.lines.Line2D at 0x15385613f98>]"
      ]
     },
     "execution_count": 29,
     "metadata": {},
     "output_type": "execute_result"
    },
    {
     "data": {
      "image/png": "[encoded data removed]",
      "text/plain": [
       "<Figure size 432x288 with 1 Axes>"
      ]
     },
     "metadata": {
      "needs_background": "light"
     },
     "output_type": "display_data"
    }
   ],
   "source": [
    "g=10\n",
    "u_T=50\n",
    "plt.plot(t,-u_T*np.tanh(g*t/u_T))"
   ]
  },
  {
   "cell_type": "code",
   "execution_count": 33,
   "metadata": {},
   "outputs": [
    {
     "data": {
      "text/plain": [
       "[<matplotlib.lines.Line2D at 0x15385785b70>]"
      ]
     },
     "execution_count": 33,
     "metadata": {},
     "output_type": "execute_result"
    },
    {
     "data": {
      "image/png": "[encoded data removed]",
      "text/plain": [
       "<Figure size 432x288 with 1 Axes>"
      ]
     },
     "metadata": {
      "needs_background": "light"
     },
     "output_type": "display_data"
    }
   ],
   "source": [
    "g=10\n",
    "u_T=150\n",
    "plt.plot(t,-u_T*np.tanh(g*t/u_T))"
   ]
  },
  {
   "cell_type": "code",
   "execution_count": 30,
   "metadata": {},
   "outputs": [
    {
     "data": {
      "text/plain": [
       "[<matplotlib.lines.Line2D at 0x15385670cc0>]"
      ]
     },
     "execution_count": 30,
     "metadata": {},
     "output_type": "execute_result"
    },
    {
     "data": {
      "image/png": "[encoded data removed]",
      "text/plain": [
       "<Figure size 432x288 with 1 Axes>"
      ]
     },
     "metadata": {
      "needs_background": "light"
     },
     "output_type": "display_data"
    }
   ],
   "source": [
    "g=10\n",
    "u_T=25\n",
    "plt.plot(t,-u_T*np.tanh(g*t/u_T))"
   ]
  },
  {
   "cell_type": "code",
   "execution_count": 39,
   "metadata": {},
   "outputs": [
    {
     "data": {
      "text/plain": [
       "[10*log(sqrt(-1 + E) + exp(1/2)), log((-exp(1/2) + sqrt(-1 + E))**10)]"
      ]
     },
     "execution_count": 39,
     "metadata": {},
     "output_type": "execute_result"
    }
   ],
   "source": [
    "solve(500 - 1000*log(cosh(t/10)), t)"
   ]
  },
  {
   "cell_type": "code",
   "execution_count": 38,
   "metadata": {},
   "outputs": [
    {
     "data": {
      "text/plain": [
       "[10*log(sqrt(-1 + exp(10)) + exp(5)), log((-exp(5) + sqrt(-1 + exp(10)))**10)]"
      ]
     },
     "execution_count": 38,
     "metadata": {},
     "output_type": "execute_result"
    }
   ],
   "source": [
    "(_)"
   ]
  },
  {
   "cell_type": "code",
   "execution_count": 40,
   "metadata": {},
   "outputs": [
    {
     "data": {
      "text/plain": [
       "10.8503850194839"
      ]
     },
     "execution_count": 40,
     "metadata": {},
     "output_type": "execute_result"
    }
   ],
   "source": [
    "N(10*log(sqrt(-1 + E) + exp(1/2)))"
   ]
  },
  {
   "cell_type": "code",
   "execution_count": 41,
   "metadata": {},
   "outputs": [
    {
     "data": {
      "text/plain": [
       "-10.8503850194839"
      ]
     },
     "execution_count": 41,
     "metadata": {},
     "output_type": "execute_result"
    }
   ],
   "source": [
    "N(log((-exp(1/2) + sqrt(-1 + E))**10))"
   ]
  },
  {
   "cell_type": "code",
   "execution_count": 11,
   "metadata": {},
   "outputs": [],
   "source": [
    "import scipy.integrate as sci"
   ]
  },
  {
   "cell_type": "code",
   "execution_count": 12,
   "metadata": {},
   "outputs": [
    {
     "ename": "NameError",
     "evalue": "name 'myfunc' is not defined",
     "output_type": "error",
     "traceback": [
      "\u001b[1;31m---------------------------------------------------------------------------\u001b[0m",
      "\u001b[1;31mNameError\u001b[0m                                 Traceback (most recent call last)",
      "\u001b[1;32m<ipython-input-12-76c6991b2588>\u001b[0m in \u001b[0;36m<module>\u001b[1;34m\u001b[0m\n\u001b[1;32m----> 1\u001b[1;33m \u001b[0mmyfunc\u001b[0m\u001b[1;33m(\u001b[0m\u001b[1;36m3\u001b[0m\u001b[1;33m)\u001b[0m\u001b[1;33m\u001b[0m\u001b[1;33m\u001b[0m\u001b[0m\n\u001b[0m",
      "\u001b[1;31mNameError\u001b[0m: name 'myfunc' is not defined"
     ]
    }
   ],
   "source": [
    "myfunc(3)"
   ]
  },
  {
   "cell_type": "code",
   "execution_count": 18,
   "metadata": {},
   "outputs": [],
   "source": [
    "def vectorfield(w,t):\n",
    "    x, vx, z, vz = w\n",
    "    return [vx, (-g/u_T**2)*np.sqrt(vx**2+vz**2)*vx, vz, (-g/u_T**2)*np.sqrt(vx**2+vz**2)*vz-g ]\n",
    "\n",
    "g = 10\n",
    "x0 = 0\n",
    "z0 = 0\n",
    "vx0 = 20\n",
    "vz0 = 80\n",
    "u_T=100\n",
    "w0 = [x0, vx0, z0, vz0]\n",
    "\n",
    "t = np.linspace(0,25,1000)"
   ]
  },
  {
   "cell_type": "code",
   "execution_count": 19,
   "metadata": {},
   "outputs": [],
   "source": [
    "wsol = sci.odeint(vectorfield, w0, t)"
   ]
  },
  {
   "cell_type": "code",
   "execution_count": 20,
   "metadata": {},
   "outputs": [
    {
     "data": {
      "image/png": "[encoded data removed]",
      "text/plain": [
       "<Figure size 432x288 with 1 Axes>"
      ]
     },
     "metadata": {
      "needs_background": "light"
     },
     "output_type": "display_data"
    }
   ],
   "source": [
    "x = wsol[:,0]\n",
    "vx = wsol[:,1]\n",
    "z = wsol[:,2]\n",
    "vz = wsol[:,3]\n",
    "plt.plot(t,z)\n",
    "plt.xlabel('Time(s)')\n",
    "plt.ylabel('Height(m)')\n",
    "plt.title('Height of projectile as a function of time')\n",
    "plt.show()"
   ]
  },
  {
   "cell_type": "code",
   "execution_count": 88,
   "metadata": {},
   "outputs": [
    {
     "data": {
      "image/png": "[encoded data removed]",
      "text/plain": [
       "<Figure size 432x288 with 1 Axes>"
      ]
     },
     "metadata": {
      "needs_background": "light"
     },
     "output_type": "display_data"
    }
   ],
   "source": [
    "x = wsol[:,0]\n",
    "vx = wsol[:,1]\n",
    "z = wsol[:,2]\n",
    "vz = wsol[:,3]\n",
    "plt.plot(t,x)\n",
    "plt.xlabel('Time(s)')\n",
    "plt.ylabel('Displacement(m)')\n",
    "plt.title('Displacement of projectile as a function of time')\n",
    "plt.show()"
   ]
  },
  {
   "cell_type": "code",
   "execution_count": 89,
   "metadata": {},
   "outputs": [
    {
     "data": {
      "image/png": "[encoded data removed]",
      "text/plain": [
       "<Figure size 432x288 with 1 Axes>"
      ]
     },
     "metadata": {
      "needs_background": "light"
     },
     "output_type": "display_data"
    }
   ],
   "source": [
    "x = wsol[:,0]\n",
    "vx = wsol[:,1]\n",
    "z = wsol[:,2]\n",
    "vz = wsol[:,3]\n",
    "plt.plot(x,z)\n",
    "plt.xlabel('Displacement(m)')\n",
    "plt.ylabel('Height(m)')\n",
    "plt.title('Trajectory of Projectile')\n",
    "plt.show()"
   ]
  },
  {
   "cell_type": "code",
   "execution_count": 16,
   "metadata": {},
   "outputs": [],
   "source": [
    "def find_nearest(array, value):\n",
    "    idx=np.argmin((np.abs(array-value)))\n",
    "    return array[idx], idx\n"
   ]
  },
  {
   "cell_type": "code",
   "execution_count": 21,
   "metadata": {},
   "outputs": [],
   "source": [
    "hello= find_nearest(z[4:], 0)"
   ]
  },
  {
   "cell_type": "code",
   "execution_count": 22,
   "metadata": {},
   "outputs": [
    {
     "data": {
      "text/plain": [
       "555"
      ]
     },
     "execution_count": 22,
     "metadata": {},
     "output_type": "execute_result"
    }
   ],
   "source": [
    "hello[1]"
   ]
  },
  {
   "cell_type": "code",
   "execution_count": 23,
   "metadata": {},
   "outputs": [
    {
     "data": {
      "text/plain": [
       "(0.013988015852145708, 555)"
      ]
     },
     "execution_count": 23,
     "metadata": {},
     "output_type": "execute_result"
    }
   ],
   "source": [
    "find_nearest(z[4:], 0)"
   ]
  },
  {
   "cell_type": "code",
   "execution_count": 75,
   "metadata": {},
   "outputs": [
    {
     "data": {
      "text/plain": [
       "13.88888888888889"
      ]
     },
     "execution_count": 75,
     "metadata": {},
     "output_type": "execute_result"
    }
   ],
   "source": [
    "t[555]"
   ]
  },
  {
   "cell_type": "code",
   "execution_count": 79,
   "metadata": {},
   "outputs": [
    {
     "data": {
      "text/plain": [
       "211.06954329695898"
      ]
     },
     "execution_count": 79,
     "metadata": {},
     "output_type": "execute_result"
    }
   ],
   "source": [
    "x[555]"
   ]
  },
  {
   "cell_type": "code",
   "execution_count": 12,
   "metadata": {},
   "outputs": [],
   "source": [
    "def vectorfield(w,t):\n",
    "    x, vx, z, vz = w\n",
    "    return [vx, (-g/u_T**2)*np.sqrt(vx**2+vz**2)*vx, vz, (-g/u_T**2)*np.sqrt(vx**2+vz**2)*vz-g ]\n",
    "\n",
    "g = 10\n",
    "x0 = 0\n",
    "z0 = 0\n",
    "vx0 = 200\n",
    "vz0 = 8\n",
    "u_T=100\n",
    "w0 = [x0, vx0, z0, vz0]\n",
    "\n",
    "t = np.linspace(0,25,1000)"
   ]
  },
  {
   "cell_type": "code",
   "execution_count": 13,
   "metadata": {},
   "outputs": [],
   "source": [
    "wsol = sci.odeint(vectorfield, w0, t)"
   ]
  },
  {
   "cell_type": "code",
   "execution_count": 109,
   "metadata": {},
   "outputs": [
    {
     "data": {
      "image/png": "[encoded data removed]",
      "text/plain": [
       "<Figure size 432x288 with 1 Axes>"
      ]
     },
     "metadata": {
      "needs_background": "light"
     },
     "output_type": "display_data"
    }
   ],
   "source": [
    "x = wsol[:,0]\n",
    "vx = wsol[:,1]\n",
    "z = wsol[:,2]\n",
    "vz = wsol[:,3]\n",
    "plt.plot(x,z)\n",
    "plt.xlabel('Displacement(m)')\n",
    "plt.ylabel('Height(m)')\n",
    "plt.title('Trajectory of Projectile')\n",
    "plt.show()"
   ]
  },
  {
   "cell_type": "code",
   "execution_count": null,
   "metadata": {},
   "outputs": [],
   "source": []
  },
  {
   "cell_type": "code",
   "execution_count": 75,
   "metadata": {},
   "outputs": [],
   "source": [
    "wsol=sci.odeint(vectorfield, w0, t)"
   ]
  },
  {
   "cell_type": "code",
   "execution_count": 147,
   "metadata": {},
   "outputs": [],
   "source": [
    "import math\n",
    "out = np.zeros(91)\n",
    "\n",
    "def vectorfield(w,t):\n",
    "    x, vx, z, vz = w\n",
    "    return [vx, (-g/u_T**2)*np.sqrt(vx**2+vz**2)*vx, vz, (-g/u_T**2)*np.sqrt(vx**2+vz**2)*vz-g ]\n",
    "\n",
    "for i in range(0,91):\n",
    "\n",
    "    \n",
    "    g = 10\n",
    "    x0 = 0\n",
    "    z0 = 0\n",
    "    vm = 100\n",
    "    u_T=100\n",
    "    th = math.pi*i/180\n",
    "    w0 = [x0, vm*np.sin(th), z0, vm*np.cos(th)]\n",
    "    \n",
    "    t= np.linspace(0,25,5000)\n",
    "    \n",
    "    wsol = sci.odeint(vectorfield, w0, t)\n",
    "    \n",
    "    x = wsol[:,0]\n",
    "    vx = wsol[:,1]\n",
    "    z = wsol[:,2]\n",
    "    vz = wsol[:,3]\n",
    "    \n",
    "    ui = find_nearest(z[10:],0)\n",
    "    \n",
    "    \n",
    "    \n",
    "    x_hit = x[ui[1]+10]\n",
    "    \n",
    "    out[i] = x_hit\n",
    "    \n",
    "l = np.linspace(0, math.pi/2, 91) "
   ]
  },
  {
   "cell_type": "code",
   "execution_count": 148,
   "metadata": {},
   "outputs": [
    {
     "data": {
      "image/png": "[encoded data removed]",
      "text/plain": [
       "<Figure size 432x288 with 1 Axes>"
      ]
     },
     "metadata": {
      "needs_background": "light"
     },
     "output_type": "display_data"
    }
   ],
   "source": [
    "x = wsol[:,0]\n",
    "vx = wsol[:,1]\n",
    "z = wsol[:,2]\n",
    "vz = wsol[:,3]\n",
    "plt.plot(l, out)\n",
    "plt.ylabel('Displacement(m)')\n",
    "plt.xlabel('Inclination(rad)')\n",
    "plt.show()"
   ]
  },
  {
   "cell_type": "code",
   "execution_count": 162,
   "metadata": {},
   "outputs": [
    {
     "data": {
      "text/plain": [
       "(253.74507967036527, 13)"
      ]
     },
     "execution_count": 162,
     "metadata": {},
     "output_type": "execute_result"
    }
   ],
   "source": [
    "find_nearest(out, 250)"
   ]
  },
  {
   "cell_type": "code",
   "execution_count": 161,
   "metadata": {},
   "outputs": [
    {
     "data": {
      "text/plain": [
       "0.22689280275926285"
      ]
     },
     "execution_count": 161,
     "metadata": {},
     "output_type": "execute_result"
    }
   ],
   "source": [
    "l[13]"
   ]
  },
  {
   "cell_type": "code",
   "execution_count": null,
   "metadata": {},
   "outputs": [],
   "source": []
  }
 ],
 "metadata": {
  "kernelspec": {
   "display_name": "Python 3",
   "language": "python",
   "name": "python3"
  },
  "language_info": {
   "codemirror_mode": {
    "name": "ipython",
    "version": 3
   },
   "file_extension": ".py",
   "mimetype": "text/x-python",
   "name": "python",
   "nbconvert_exporter": "python",
   "pygments_lexer": "ipython3",
   "version": "3.7.3"
  }
 },
 "nbformat": 4,
 "nbformat_minor": 2
}
